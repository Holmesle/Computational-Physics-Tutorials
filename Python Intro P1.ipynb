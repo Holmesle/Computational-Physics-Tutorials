{
 "cells": [
  {
   "cell_type": "markdown",
   "id": "8f49b83b",
   "metadata": {},
   "source": [
    "# Python Introduction (Part 1)\n",
    "\n",
    "(1) Interpreter Languages\n",
    "(2) Comments\n",
    "(3) Object Types\n",
    "(4) Varaibles\n",
    "\n",
    "### The Python Interpreter\n",
    "\n",
    "Python is an **interpreter**  which means it is written in another language (usually C++) which is faster but harder to use. C++ is a COMPILED language where all the computer instructions are analyzed and converted into machine\n",
    "code by the compiler before the program is run. In an interpreted language each line must be converted first which takes much longer to process but it is easier to tweak and debug.\n",
    "\n",
    "Python can function as a very powerfull calculator. We can do arithmatic and store values in variables.\n",
    "\n",
    "For example:"
   ]
  },
  {
   "cell_type": "code",
   "execution_count": 1,
   "id": "f1eaec39",
   "metadata": {},
   "outputs": [
    {
     "name": "stdout",
     "output_type": "stream",
     "text": [
      "addtion: 20\n",
      "subtraction: -12\n",
      "multiplication: 64\n",
      "division: 0.25\n",
      "exponential: 4294967296\n"
     ]
    }
   ],
   "source": [
    "# assign variables\n",
    "x = 4\n",
    "y = 16\n",
    "\n",
    "# addition\n",
    "z = x+y\n",
    "print('addtion:',z)\n",
    "\n",
    "# subtraction\n",
    "z = x-y\n",
    "print('subtraction:',z)\n",
    "\n",
    "# multiplication\n",
    "z = x*y\n",
    "print('multiplication:',z)\n",
    "\n",
    "# division\n",
    "z = x/y\n",
    "print('division:',z)\n",
    "\n",
    "# exponential\n",
    "z = x**y\n",
    "print('exponential:',z)"
   ]
  },
  {
   "cell_type": "markdown",
   "id": "2f14ee8c",
   "metadata": {},
   "source": [
    "### COMMENTS\n",
    "\n",
    "A program is a set of instructions that a computer can follow. While it is \n",
    "important for the computer to comprehend the program it is also important\n",
    "for it to be comphrensible for humans who will be using, debugging, or fixing\n",
    "it. Comments are a handy tool for making sure human readers understand the \n",
    "purpose of the program, while the computer ignores it. \n",
    "\n",
    "Two types of comments:\n",
    "\n",
    "**paragraph comments** - completed with double or single\n",
    "quotations (\"/') and allow you to comment on several lines. \n",
    "They are usful for describing the purpose of the program \n",
    "at the begining. \n",
    "\n",
    "**line comments** - comment will only last for a line and \n",
    "completed with a hashtage (#). They are usful for short \n",
    "notes describing parts of the code step by step.\n",
    "\n",
    "Example of good formating:"
   ]
  },
  {
   "cell_type": "code",
   "execution_count": 2,
   "id": "f8c80906",
   "metadata": {},
   "outputs": [
    {
     "name": "stdout",
     "output_type": "stream",
     "text": [
      "2\n",
      "4\n",
      "6\n",
      "8\n",
      "10\n"
     ]
    }
   ],
   "source": [
    "'''\n",
    "This program determines and prints even integers up to the given \n",
    "number N. \n",
    "'''\n",
    "\n",
    "# define the max number N\n",
    "N = 10\n",
    "\n",
    "# define first number tested. \n",
    "number = 1\n",
    "\n",
    "# initialize an empty list of evens\n",
    "evens = []\n",
    "\n",
    "# main while loop to test each number\n",
    "while number <  N+1:         # while the number tested is less then N the loop continues\n",
    "    if number % 2 == 0:      # number is even if mod 2 = 0\n",
    "        evens += [number]    # add number to the list evens\n",
    "        number += 1          # increase number by 1\n",
    "    else:\n",
    "        number += 1          # else increase by 1 without adding to the list\n",
    "        \n",
    "# print evens\n",
    "\n",
    "for even in evens:           # loop through evens list\n",
    "    print(even)              # print each item\n",
    "    "
   ]
  },
  {
   "cell_type": "markdown",
   "id": "5a2d051d",
   "metadata": {},
   "source": [
    "### Object Types\n",
    "\n",
    "Python has the following built-in major object types (there are others not included in **Table 1.1**), the numeric and sequence types are most common in computational coding. "
   ]
  },
  {
   "cell_type": "markdown",
   "id": "9bf213c9",
   "metadata": {},
   "source": [
    "\n",
    "| Data Type        | Mutable | Iterable |Example       |Notes                 |\n",
    "| :--------------- | ------- |--------- | -------------------- | ---------------------------------: |\n",
    "|  **Numeric:**    |         |          |              |                      |\n",
    "| integer          |   NA    |    No    |...-1,0,1,... | not divisible with remainder |\n",
    "| float          |   NA    |    No    |2.1718 | more computationally expensive than integers |\n",
    "| complex          |   NA    |    No    |1.2j | built into python using j = sqrt(-1) |\n",
    "|  **Sequence:** |         |          |              |                      |  \n",
    "| list          |   Yes    |    Yes    |[1,2,3] | |\n",
    "| tuple          |   No    |    Yes    |(1,2,3) | |\n",
    "| string          |   No    |    Yes    |'cat' or \"dog\" | |\n",
    "| range          |   No    |    yes    | 0,1,2,3,4,5 | uses a function range(start,end),step size = 1|\n",
    "|  **Set:**    |   |\n",
    "| set          |   Yes    |    Yes    | {1,2,3} | are not ordered thus indexing is not useful|\n",
    "| frozen set |   No    |    Yes    | {1,2,3} | uses a function frozenset((1,2,3))|\n",
    "|  **Mapping:** |         |          |              |                      |\n",
    "| dictionary |   Yes    |    Yes    | {\"key1\":value1,...} |sets that are mapped together by key-value pairs|\n",
    "| **Boolean:** |     |      |  |  |\n",
    "| bool |  NA   |   No   | True, False, 1, 0 | represent truth values |                      |\n",
    "|  **Binary:**   |     |      |  |  |    \n",
    "| byte |   No    |    No    | 11010100 | |\n",
    "| bytearray |   Yes    |    Yes    | 11010100 | uses a function bytesarray(input object type, object) | |\n"
   ]
  },
  {
   "cell_type": "markdown",
   "id": "4b1ea070",
   "metadata": {},
   "source": [
    "We will cover how to use some of these data types in future tutorials."
   ]
  },
  {
   "cell_type": "markdown",
   "id": "40e58f47",
   "metadata": {},
   "source": [
    "### SIMPLE INPUTS & OUTPUTS\n",
    "\n",
    "**input( )** - allows the user to type in a numerical value or string which can be assigned to a varaible. \n",
    "\n",
    "**print( )** - sends the sting or numerical value to the terminal to be displayed. Commas can be used to seperate outputs."
   ]
  },
  {
   "cell_type": "code",
   "execution_count": null,
   "id": "23b10af7",
   "metadata": {},
   "outputs": [],
   "source": [
    "y = input(\"type a value: \")\n",
    "print('your value is ', y)"
   ]
  },
  {
   "cell_type": "markdown",
   "id": "39f4be7a",
   "metadata": {},
   "source": [
    "**String formating** can be used to change the format of an output, see Table below for common format indicators. \n",
    "\n",
    "**Table 1.2**"
   ]
  },
  {
   "cell_type": "markdown",
   "id": "cb6b31c3",
   "metadata": {},
   "source": [
    "\n",
    "| Indicator      | Description                        |\n",
    "| :------------- | ---------------------------------: |\n",
    "|  % xd | Decimal value, with (optional) total width x |\n",
    "| %x.yf   | Floating point value, x wide with y decimal places. *Note that the output will contain more than x characters to show y decimal places plus the decimal. |\n",
    "| %x.ye   | Scientific notation x wide with y decimal places.|\n",
    "| x.5g | \"General\" notation: switches between floating point and scientific as appropriate.|\n",
    "| + | A \"+\" character immediately after the % sign will force the sign of the number to be indicated (even if positive)|"
   ]
  },
  {
   "cell_type": "code",
   "execution_count": null,
   "id": "a799a13e",
   "metadata": {},
   "outputs": [],
   "source": [
    "pi = 3.141592\n",
    "\n",
    "print(\"Decimal: %d\" % pi)\n",
    "print(\"Floating point (two decimal places): %0.2f\" % pi)\n",
    "print(\"Scientific (two decimal places and width 10): %10.2e\" % pi)"
   ]
  },
  {
   "cell_type": "markdown",
   "id": "44b2d6f4",
   "metadata": {},
   "source": [
    "You can format multiple varaibles grouped together using parenthesis."
   ]
  },
  {
   "cell_type": "code",
   "execution_count": null,
   "id": "1f6c0796",
   "metadata": {},
   "outputs": [],
   "source": [
    "pi = 3.141592\n",
    "e = 2.718282\n",
    "sum = pi + e\n",
    "\n",
    "print(\"The sum of %0.3f and %0.3f is %0.3f\" % (pi,e,sum))"
   ]
  },
  {
   "cell_type": "markdown",
   "id": "90ce08f9",
   "metadata": {},
   "source": [
    "String formatting can be used for any string, not just print statements"
   ]
  },
  {
   "cell_type": "code",
   "execution_count": null,
   "id": "eb9f65b2",
   "metadata": {},
   "outputs": [],
   "source": [
    "name = 'Don'\n",
    "FinalExamScore = 80\n",
    "FinalGrade = 90\n",
    "\n",
    "ComplicatedString = \"Student %s scored %d on the final exam, for a grade of %s.\" %(name, FinalExamScore, FinalGrade)\n",
    "\n",
    "print(ComplicatedString)"
   ]
  },
  {
   "cell_type": "markdown",
   "id": "2f413c2d",
   "metadata": {},
   "source": [
    "### Variables\n",
    "\n",
    "Python interprets variables from the right to the left. For a line such x = 5 python interpreter takes the \"5\" recognizes it as an integer and stashes it in an integer sized box in the memory. It then takes the label x and uses it as a pointer to that memory location.\n",
    "\n",
    "If we then assign y the value of x they both point to the same memory box. If I now reassign x as 3, the value of y will remain the original value of x. If we also reassign y as 3 it will not be the same value of x, instead it will \n",
    "create a new box of memory with the value of 3. The box with the value of 5 still exists but there are no pointers, so the location is free to be used for something else. \n",
    "\n",
    "**Figure 1.1**"
   ]
  },
  {
   "cell_type": "markdown",
   "id": "8aab52e8",
   "metadata": {},
   "source": [
    "| x = 5 |       | y = x |       | x = 3 |       | y = 3 |       |       \n",
    "| :---- | ----- | ----- | ----- | ----- | ----- | ----- | ----: |\n",
    "|  x >  |   5   |  x >  |   5   |  y >  |   5   |       |   5   |\n",
    "|       |       |  y^   |       |       |       |       |       |\n",
    "|       |       |       |       |       |       |       |       |\n",
    "|       |       |       |       |  x >  |   3   |  x >  |   3   |\n",
    "|       |       |       |       |       |       |  y >  |   3   |"
   ]
  },
  {
   "cell_type": "markdown",
   "id": "5cb33a65",
   "metadata": {},
   "source": [
    "**Right-to- left interpretation** allows you to do some useful but mathematically improbable things such as x = x + 1, which will add 1 to the \n",
    "current x value. This can also be written x += 1. \n",
    "\n",
    "Python also allows you to assign more than one variable at a time because it sees the pair of numbers first.\n"
   ]
  },
  {
   "cell_type": "code",
   "execution_count": null,
   "id": "9359b51e",
   "metadata": {},
   "outputs": [],
   "source": [
    "a,b, = 3,5 \n",
    "\n",
    "print('a = ',a,'b = ',b)\n"
   ]
  },
  {
   "cell_type": "markdown",
   "id": "00ddfb0f",
   "metadata": {},
   "source": [
    "This can be used to swap variables."
   ]
  },
  {
   "cell_type": "code",
   "execution_count": null,
   "id": "0a3ef449",
   "metadata": {},
   "outputs": [],
   "source": [
    "a,b = b,a\n",
    "\n",
    "print('a = ',a,'b = ',b)"
   ]
  },
  {
   "cell_type": "markdown",
   "id": "13547f4d",
   "metadata": {},
   "source": [
    "Tips: \n",
    "\n",
    "(1) Keep this concept of box memory in mind when dealing with matrices. \n",
    "\n",
    "(2) Variable names are case sensitive.\n",
    "\n",
    "(3) Use descriptive names, it takes more time to debug an unknown variable then to write them out.\n",
    "\n",
    "Variables can be assigned any of the object types mentioned in **Table 1.1**."
   ]
  },
  {
   "cell_type": "code",
   "execution_count": null,
   "id": "fc442250",
   "metadata": {},
   "outputs": [],
   "source": []
  },
  {
   "cell_type": "code",
   "execution_count": null,
   "id": "cca2201c",
   "metadata": {},
   "outputs": [],
   "source": []
  }
 ],
 "metadata": {
  "kernelspec": {
   "display_name": "Python 3",
   "language": "python",
   "name": "python3"
  },
  "language_info": {
   "codemirror_mode": {
    "name": "ipython",
    "version": 3
   },
   "file_extension": ".py",
   "mimetype": "text/x-python",
   "name": "python",
   "nbconvert_exporter": "python",
   "pygments_lexer": "ipython3",
   "version": "3.8.8"
  }
 },
 "nbformat": 4,
 "nbformat_minor": 5
}
