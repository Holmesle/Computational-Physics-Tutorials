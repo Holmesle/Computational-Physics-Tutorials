{
 "cells": [
  {
   "cell_type": "markdown",
   "id": "74e6a4e5",
   "metadata": {},
   "source": [
    "# Python Introduction (Part 2)\n",
    "\n",
    "(1) Operations\n",
    "(2) Control Structures\n",
    "(3) Loops and Indices\n",
    "(4) Functions\n",
    "\n",
    "### Operations\n",
    "\n",
    "**Table 1.1** - Arithmetic Operators"
   ]
  },
  {
   "cell_type": "markdown",
   "id": "5cdcd06f",
   "metadata": {},
   "source": [
    "\n",
    "| Operator       | Description | Example  |\n",
    "| :------------- | ------------|--------: |\n",
    "|  + addtion       |  | 1 + 1 = 2  |\n",
    "| - subtraction       |  | 1 - 1 = 0  |\n",
    "| *multiplication       |  | 1*2 = 2  |\n",
    "| / division       | division (always returns a float value) | 1/2 = 0.5  |\n",
    "| % modulus | divides a by b and returns only the remainder| 5 % 2 = 1|\n",
    "| ** exponent || 2**3 = 8|\n",
    "| // Floor Division | division without decimal (i.e. rounded towards -inf).| 11/3 = 4|"
   ]
  },
  {
   "cell_type": "markdown",
   "id": "5ad8f218",
   "metadata": {},
   "source": [
    "**Table 1.2** - Conditional Operators"
   ]
  },
  {
   "cell_type": "markdown",
   "id": "3701511a",
   "metadata": {},
   "source": [
    "\n",
    "| Operator       | Description | Example  |\n",
    "| :------------- | ------------|--------: |\n",
    "|  ==      | equal | 1 == 1 returns true, 1 == 0 returns false   |\n",
    "|  != or <>  | not equal | 1 != 1 returns false, 1 != 0 returns true   |\n",
    "| >    | greater than   | 1 > 0 returns true|\n",
    "| < | less than | 1 < 0 returns false|\n",
    "| >= | greater than or equal to | 1 <== 1 returns true |\n",
    "| <= | less than or equal to | 0 <== 1 returns true |"
   ]
  },
  {
   "cell_type": "markdown",
   "id": "b70a5bb6",
   "metadata": {},
   "source": [
    "**Table 1.3** - Logical Operators"
   ]
  },
  {
   "cell_type": "markdown",
   "id": "5cd8b53e",
   "metadata": {},
   "source": [
    "| Operator       | Description | Math equivalent  |\n",
    "| :------------- | ------------|--------: |\n",
    "|  and     | True if both are true | a ^ b   |\n",
    "|  or | True if one operand is true |a v b  |\n",
    "| not | Ture if operand is false |~a |"
   ]
  },
  {
   "cell_type": "markdown",
   "id": "d1c987b9",
   "metadata": {},
   "source": [
    "**Table 1.4** - Membership Operators"
   ]
  },
  {
   "cell_type": "markdown",
   "id": "150cc49a",
   "metadata": {},
   "source": [
    "| Operator       | Description | Example |\n",
    "| :------------- | ------------|--------: |\n",
    "|  in   | True if both are true | 5 in x (=1,3,5) is True |\n",
    "| not in | Ture if operand is false | 5  not in x (=1,3,5) is False |"
   ]
  },
  {
   "cell_type": "markdown",
   "id": "b4a92754",
   "metadata": {},
   "source": [
    "### Loops and Indices"
   ]
  },
  {
   "cell_type": "markdown",
   "id": "9ab47cf5",
   "metadata": {},
   "source": [
    "Sequence type objects (lists,strings, tuples) can be interated thorough as they are a collection of items that occur in a specific order.\n",
    "\n",
    "**Note1:** python begins its idices with 0 not 1\n",
    "\n",
    "For Example: consider the list (L) of counting numbers 1-10\n",
    "\n",
    "L = [1,2,3,4,5,6,7,8,9]\n",
    "\n",
    "Indices in a list are indicated by a single digit in square brackets. Thus our first item or index in the list L is given by\n",
    "\n",
    "L[0] = 1\n",
    "\n",
    "Then by increasing order we may obtain the other items in the list. \n",
    "\n",
    "L[1] = 2, L[2] = 3, L[3] = 4,...\n",
    "\n",
    "**Note2:** Lists may contain other lists\n",
    "\n",
    "For example we may write a 3x3 matrix as follows \n",
    "\n",
    "M1 = [[1,2,3],[4,5,6],[7,8,9]]\n",
    "\n",
    "Indexing works similarly only this time we have two indices the first for the outer list the second for th inner list. \n",
    "\n",
    "M1[0][0] = 1 , M1[3][1] = 8\n",
    "\n"
   ]
  },
  {
   "cell_type": "markdown",
   "id": "5440ea9c",
   "metadata": {},
   "source": [
    "### Control Statements\n",
    "\n",
    "Control statements allow a program to complete certian tasks when a declared condition is met. \n",
    "\n",
    "The most common control statement is the if - elif - else statement which "
   ]
  },
  {
   "cell_type": "markdown",
   "id": "593fab01",
   "metadata": {},
   "source": [
    "### Functions"
   ]
  },
  {
   "cell_type": "code",
   "execution_count": null,
   "id": "0e45d67d",
   "metadata": {},
   "outputs": [],
   "source": []
  }
 ],
 "metadata": {
  "kernelspec": {
   "display_name": "Python 3",
   "language": "python",
   "name": "python3"
  },
  "language_info": {
   "codemirror_mode": {
    "name": "ipython",
    "version": 3
   },
   "file_extension": ".py",
   "mimetype": "text/x-python",
   "name": "python",
   "nbconvert_exporter": "python",
   "pygments_lexer": "ipython3",
   "version": "3.8.8"
  }
 },
 "nbformat": 4,
 "nbformat_minor": 5
}
