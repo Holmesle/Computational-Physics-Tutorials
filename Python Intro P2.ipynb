{
 "cells": [
  {
   "cell_type": "markdown",
   "id": "74e6a4e5",
   "metadata": {},
   "source": [
    "# Python Introduction (Part 2)\n",
    "\n",
    "(1) Operations\n",
    "\n",
    "(2) Indices and Slicing\n",
    "\n",
    "(3) Control Structures\n",
    "\n",
    "(4) Functions\n",
    "\n",
    "### Operations\n",
    "\n",
    "**Table 1.1** - Arithmetic Operators"
   ]
  },
  {
   "cell_type": "markdown",
   "id": "5cdcd06f",
   "metadata": {},
   "source": [
    "\n",
    "| Operator       | Description | Example  |\n",
    "| :------------- | ------------|--------: |\n",
    "|  + addtion       |  | 1 + 1 = 2  |\n",
    "| - subtraction       |  | 1 - 1 = 0  |\n",
    "| *multiplication       |  | 1*2 = 2  |\n",
    "| / division       | division (always returns a float value) | 1/2 = 0.5  |\n",
    "| % modulus | divides a by b and returns only the remainder| 5 % 2 = 1|\n",
    "| ** exponent || 2**3 = 8|\n",
    "| // Floor Division | division without decimal (i.e. rounded towards -inf).| 11/3 = 4|"
   ]
  },
  {
   "cell_type": "markdown",
   "id": "4ffe8238-b929-4159-b9a5-c66ff20137c3",
   "metadata": {},
   "source": [
    "**Note1**: when a mathematical expression is long you can continue the statement after the operation using \\."
   ]
  },
  {
   "cell_type": "code",
   "execution_count": 8,
   "id": "3f5e8262-2940-4554-8442-84c1f9b9de30",
   "metadata": {},
   "outputs": [
    {
     "name": "stdout",
     "output_type": "stream",
     "text": [
      "y =  33 z =  3.6\n"
     ]
    }
   ],
   "source": [
    "y = 1 + 2 + 6 +\\\n",
    "7 + 8 + 9\n",
    "    \n",
    "z = 1 * 9/10 *\\\n",
    "8 * 1/2\n",
    "print('y = ', y, 'z = ', z)"
   ]
  },
  {
   "cell_type": "markdown",
   "id": "63938643-9c69-45ff-9178-80d3474bdb33",
   "metadata": {},
   "source": [
    "**Table 1.2** - Augmentation Assignment Operators\n",
    "\n",
    "Although mathematically unsound, python allows you to add to a prior value using a augmentation assignment operators. Python accepts this as valid since it reads the statement right to left."
   ]
  },
  {
   "cell_type": "markdown",
   "id": "e625bb79-9880-4573-bec6-ed3a22f990ac",
   "metadata": {},
   "source": [
    "\n",
    "| Operator       | Example | Equivalent  |\n",
    "| :------------- | ------------|--------: |\n",
    "| += |  x += 3 | x  = x + 3  |\n",
    "| -= |  x -= 3 | x  = x - 3  |\n",
    "| *= |  x *= 3 | x  = x * 3  |\n",
    "| /= |  x /= 3 | x  = x / 3  |\n",
    "| %= |  x %= 3 | x  = x % 3  |\n",
    "| **= |  x **= 3 | x  = x**3  |\n",
    "| //= |  x //= 3 | x  = x // 3  |\n"
   ]
  },
  {
   "cell_type": "markdown",
   "id": "c28df3d9-e73b-412e-9db1-c090943e65ab",
   "metadata": {},
   "source": [
    "Say we start out with the variable x = 5 and we want to change the assigment to x = 10."
   ]
  },
  {
   "cell_type": "code",
   "execution_count": 26,
   "id": "e23c5a0f-e8f0-4dff-8b13-eed598599a34",
   "metadata": {},
   "outputs": [
    {
     "name": "stdout",
     "output_type": "stream",
     "text": [
      "x =  5\n",
      "x =  10\n"
     ]
    }
   ],
   "source": [
    "x = 5\n",
    "\n",
    "print('x = ',x)\n",
    "\n",
    "x += 5\n",
    "\n",
    "print('x = ',x)"
   ]
  },
  {
   "cell_type": "markdown",
   "id": "5ad8f218",
   "metadata": {},
   "source": [
    "**Table 1.3** - Conditional Operators"
   ]
  },
  {
   "cell_type": "markdown",
   "id": "3701511a",
   "metadata": {},
   "source": [
    "\n",
    "| Operator       | Description | Example  |\n",
    "| :------------- | ------------|--------: |\n",
    "|  ==      | equal | 1 == 1 returns true, 1 == 0 returns false   |\n",
    "|  != or <>  | not equal | 1 != 1 returns false, 1 != 0 returns true   |\n",
    "| >    | greater than   | 1 > 0 returns true|\n",
    "| < | less than | 1 < 0 returns false|\n",
    "| >= | greater than or equal to | 1 <== 1 returns true |\n",
    "| <= | less than or equal to | 0 <== 1 returns true |"
   ]
  },
  {
   "cell_type": "markdown",
   "id": "b70a5bb6",
   "metadata": {},
   "source": [
    "**Table 1.4** - Logical Operators"
   ]
  },
  {
   "cell_type": "markdown",
   "id": "5cd8b53e",
   "metadata": {},
   "source": [
    "| Operator       | Description | Math equivalent  |\n",
    "| :------------- | ------------|--------: |\n",
    "|  and     | True if both are true | a ^ b   |\n",
    "|  or | True if one operand is true |a v b  |\n",
    "| not | Ture if operand is false |~a |"
   ]
  },
  {
   "cell_type": "markdown",
   "id": "d1c987b9",
   "metadata": {},
   "source": [
    "**Table 1.5** - Membership Operators"
   ]
  },
  {
   "cell_type": "markdown",
   "id": "150cc49a",
   "metadata": {},
   "source": [
    "| Operator       | Description | Example |\n",
    "| :------------- | ------------|--------: |\n",
    "|  in   | True if both are true | 5 in x (=1,3,5) is True |\n",
    "| not in | Ture if operand is false | 5  not in x (=1,3,5) is False |"
   ]
  },
  {
   "cell_type": "markdown",
   "id": "b4a92754",
   "metadata": {},
   "source": [
    "### Indices and Slicing"
   ]
  },
  {
   "cell_type": "markdown",
   "id": "9ab47cf5",
   "metadata": {},
   "source": [
    "Sequence type objects (lists, strings, tuples) can be iterated through since they are a collection of items that occur in a specific order.\n",
    "\n",
    "**Note1:** python begins its idices with 0 not 1\n",
    "\n",
    "Consider the list (L) of counting numbers 1-9\n",
    "\n",
    "L = [1,2,3,4,5,6,7,8,9]\n",
    "\n",
    "Indices in a list are indicated by a single digit in square brackets, thus our first item in the list L is given by...\n",
    "\n",
    "L[0] = 1\n",
    "\n",
    "Then by increasing order we may obtain the other items in the list. \n",
    "\n",
    "L[1] = 2, L[2] = 3, L[3] = 4,...\n",
    "\n",
    "We can also obtain the opposite order, starting with -1 to indicate the last item in the list and -2 for the second to last item.\n",
    "\n",
    "L[-1] = 9, L[-2] = 8, L[-3] = 7,..."
   ]
  },
  {
   "cell_type": "code",
   "execution_count": 47,
   "id": "e982230f-f1de-48a4-aecf-d2fb41d8bc31",
   "metadata": {},
   "outputs": [
    {
     "name": "stdout",
     "output_type": "stream",
     "text": [
      "L[0] =  1\n",
      "L[1] =  2\n",
      "L[-1] =  9\n",
      "L[-2] =  8\n"
     ]
    }
   ],
   "source": [
    "L = [1,2,3,4,5,6,7,8,9]\n",
    "\n",
    "print('L[0] = ',L[0])\n",
    "print('L[1] = ',L[1])\n",
    "print('L[-1] = ',L[-1])\n",
    "print('L[-2] = ',L[-2])"
   ]
  },
  {
   "cell_type": "markdown",
   "id": "b83cba6b-310c-46fc-a630-283368914abd",
   "metadata": {},
   "source": [
    "Lists may also contain other lists.\n",
    "\n",
    "For example we may write a 3x3 matrix as follows: \n",
    "\n",
    "M = [[1,2,3],[4,5,6],[7,8,9]]\n",
    "\n",
    "Indexing works similarly only this time we have two indices the first for the outer list the second for th inner list. \n",
    "\n",
    "M[0][0] = 1 , M[2][1] = 8\n"
   ]
  },
  {
   "cell_type": "code",
   "execution_count": 48,
   "id": "2eb775a2-b36f-479c-9ae0-0bf67561e09a",
   "metadata": {},
   "outputs": [
    {
     "name": "stdout",
     "output_type": "stream",
     "text": [
      "M[0][0] =  1\n",
      "M[2][1] =  8\n"
     ]
    }
   ],
   "source": [
    "M = [[1,2,3],[4,5,6],[7,8,9]]\n",
    "\n",
    "print('M[0][0] = ', M[0][0])\n",
    "print('M[2][1] = ', M[2][1])"
   ]
  },
  {
   "cell_type": "markdown",
   "id": "fe7f3897-4124-477f-a7b4-0950a0e53ec7",
   "metadata": {},
   "source": [
    "Colons can be used to indicate inclusion of the rest of the sequence. For example is we want only half of list L, the first half, the second half, and the middle. \n",
    "\n",
    "L_begining = [:5] = 1,2,3,4,5\n",
    "\n",
    "L_ending = [5:] = 6,7,8,9\n",
    "\n",
    "L_middle = [1:8] = 2,3,4,5,6,7,8\n",
    "\n",
    "The act of using substrings of arbitrary length is called **slicing**."
   ]
  },
  {
   "cell_type": "code",
   "execution_count": 49,
   "id": "584b6ccc-2628-40e2-b55e-7531a4f9d78e",
   "metadata": {},
   "outputs": [
    {
     "name": "stdout",
     "output_type": "stream",
     "text": [
      "L[:5] = [1, 2, 3, 4, 5]\n",
      "L[5:] = [6, 7, 8, 9]\n",
      "L[1:8] = [2, 3, 4, 5, 6, 7, 8]\n"
     ]
    }
   ],
   "source": [
    "print('L[:5] =', L[:5])\n",
    "print('L[5:] =', L[5:])\n",
    "print('L[1:8] =', L[1:8])"
   ]
  },
  {
   "cell_type": "markdown",
   "id": "338dc40e-43f3-40b9-a2d5-761f194194bc",
   "metadata": {},
   "source": [
    "Although we mostly use numbers in physics I wanted to briefly mention that indexing works for stings and lists with other object types, which can be useful for graphing. "
   ]
  },
  {
   "cell_type": "code",
   "execution_count": 50,
   "id": "ca42ef21-c7d7-4905-9ace-c39a3c6c4f44",
   "metadata": {},
   "outputs": [
    {
     "name": "stdout",
     "output_type": "stream",
     "text": [
      "experimental_data_color =  red\n",
      "theoretical_data_color =  blue\n",
      "the first letter in index is i\n"
     ]
    }
   ],
   "source": [
    "Colors = ['red','blue']\n",
    "experimental_data_color = Colors[0]\n",
    "theoretical_data_color = Colors[1]\n",
    "\n",
    "print('experimental_data_color = ', experimental_data_color)\n",
    "print('theoretical_data_color = ', theoretical_data_color)\n",
    "\n",
    "s = 'This is a sentence'\n",
    "\n",
    "print('the first letter in the sentense is',s[0])\n"
   ]
  },
  {
   "cell_type": "markdown",
   "id": "60014705-d096-4292-abe1-7561314055a1",
   "metadata": {},
   "source": [
    "Sequence types can be augmented using the augmentation assignment operations. "
   ]
  },
  {
   "cell_type": "code",
   "execution_count": 68,
   "id": "66cdad8e-29aa-42e5-bc9e-eed62a5dc962",
   "metadata": {},
   "outputs": [
    {
     "name": "stdout",
     "output_type": "stream",
     "text": [
      "[1, 2, 3, 4, 5, 6, 7, 8, 9, 10]\n",
      "['red', 'blue', 'lime']\n",
      "the birds sing\n",
      "the birds are singing\n"
     ]
    }
   ],
   "source": [
    "L = [1,2,3,4,5,6,7,8,9]\n",
    "L += [10]\n",
    "print(L)\n",
    "\n",
    "Colors = ['red','blue']\n",
    "Colors += ['lime']\n",
    "print(Colors)\n",
    "\n",
    "verb = 'sing'\n",
    "print('the birds',verb)\n",
    "\n",
    "verb += 'ing'\n",
    "print('the birds are',verb)"
   ]
  },
  {
   "cell_type": "markdown",
   "id": "b769e3a0-3e36-45e1-92a2-312173301e1b",
   "metadata": {},
   "source": [
    "**Note:** the object being augmented must be matching in type. If we want to add an item to a list it must be in brackets [ ] if we want to add an item to a string it must be a string."
   ]
  },
  {
   "cell_type": "markdown",
   "id": "5440ea9c",
   "metadata": {},
   "source": [
    "### Control Structures\n",
    "\n",
    "The computations up to this point have been **straight-line programs**, they execute one statement after the other. As far as programs go they are rather boring.\n",
    "\n",
    "**Branching programs**, which require **conditional statements** allow us to control the flow of the program depending on whether a statement is true or false. \n",
    "\n",
    "                                                                  | code |\n",
    "                                                                     |\n",
    "                                                                  | test |\n",
    "                                                                  /     \\\n",
    "                                                             |true|     |false|\n",
    "                                                                  \\     /\n",
    "                                                                  | code |\n",
    "\n",
    "\n",
    "The simplest conditional statement is the if - else statement. For example if we want to write a program that will tell you if a given number is odd or even, we may write: "
   ]
  },
  {
   "cell_type": "code",
   "execution_count": 14,
   "id": "bfde6fe2-76c0-45dc-9068-7e49aef8dc66",
   "metadata": {},
   "outputs": [
    {
     "name": "stdout",
     "output_type": "stream",
     "text": [
      "Even\n"
     ]
    }
   ],
   "source": [
    "x = 8\n",
    "\n",
    "if x%2 == 0:\n",
    "    print('Even')\n",
    "else:\n",
    "    print('Odd')\n",
    "print('Done with conditional')"
   ]
  },
  {
   "cell_type": "markdown",
   "id": "c257d1c4-f826-4b66-ae65-ebfea67b3358",
   "metadata": {},
   "source": [
    "Notice the indentation. It is a very important feature in Python. Most progaming languages use brackets { } to associate a block of code, Python uses indentation. In the prior example the block of code print ('odd') is associated with else: rather than the following print statement. \n",
    "\n",
    "When a conditional contains another conditional the conditional statments are said to be **nested**. Observe the following program. "
   ]
  },
  {
   "cell_type": "code",
   "execution_count": 15,
   "id": "ebe83a36-351e-4b60-a13b-6b09c4a23795",
   "metadata": {},
   "outputs": [
    {
     "name": "stdout",
     "output_type": "stream",
     "text": [
      "divisible by 2 but not 3\n"
     ]
    }
   ],
   "source": [
    "x = 10\n",
    "\n",
    "if x%2 == 0:\n",
    "    if x%3 == 0:\n",
    "        print('divisible by 2 and 3')\n",
    "    else:\n",
    "        print('divisible by 2 but not 3')\n",
    "elif x%3 == 0:\n",
    "        print(' not divisible by 2 and 3')"
   ]
  },
  {
   "cell_type": "markdown",
   "id": "35ebcba1-6528-4f44-a2d8-401f735feea3",
   "metadata": {},
   "source": [
    "Notice the **elif** this is a convenient short hand that allows the conitinuation of conditionals after the first conditional if statement is determined false.\n",
    "\n",
    "I want to distinguish the elif from a block of if statments. The block of if statements will all be evaluated, but an elif statement will only be performed if the first if statement is false.  "
   ]
  },
  {
   "cell_type": "code",
   "execution_count": 1,
   "id": "ed1fd3c0-84c2-4c23-8909-22f1f98072d9",
   "metadata": {},
   "outputs": [
    {
     "name": "stdout",
     "output_type": "stream",
     "text": [
      "if-if statement, a =  4\n",
      "if-elif statement, a =  3\n"
     ]
    }
   ],
   "source": [
    "# if-if statement\n",
    "a = 2\n",
    "if a > 1: a += 1\n",
    "if a > 2: a += 1\n",
    "  \n",
    "print('if-if statement, a = ',a)\n",
    "\n",
    "# if-elif statement\n",
    "a  = 2\n",
    "if a > 1: a += 1\n",
    "elif a > 2: a += a\n",
    "    \n",
    "print('if-elif statement, a = ',a)\n"
   ]
  },
  {
   "cell_type": "markdown",
   "id": "387cde48-7747-4f29-9f48-b4c9e382e217",
   "metadata": {},
   "source": [
    "In the if-if statment both conditions apply so it adds 1 twice but the elif only applies if the first statement is not true. \n",
    "\n",
    "The next program type we wil introduce is an **iteration** mechanism, where the program continues a command until a condition is met or a list index is exhausted. This repetitive process is called a **loop**.\n",
    "\n",
    "                                                                    [Code]\n",
    "                                                                      |\n",
    "                                                              ^ --->[Test] --->\n",
    "                                                              |       |        |\n",
    "                                                              <---[Loop Body]  |\n",
    "                                                                      |        |\n",
    "                                                                   [Code]<---- v\n",
    "                               \n",
    "There are two types of loops in python a **while loop** and a **for loop**. A while loop will repeat a block of code until a condition is met. \n",
    "\n",
    "Although there are better methods, we can use a while loop to create a list of counting numbers. "
   ]
  },
  {
   "cell_type": "code",
   "execution_count": 3,
   "id": "aa32750e-e067-46a1-a0b5-25e47d0f9f4e",
   "metadata": {},
   "outputs": [
    {
     "name": "stdout",
     "output_type": "stream",
     "text": [
      "[1, 2, 3, 4, 5, 6, 7, 8, 9, 10]\n"
     ]
    }
   ],
   "source": [
    "# make a list of counting numbers 1 to 10\n",
    "\n",
    "count = 0\n",
    "counting_numbers = [] # initiate empty list\n",
    "\n",
    "while count < 10:\n",
    "    count += 1 # if in front does not include 0\n",
    "    counting_numbers += [count]\n",
    "\n",
    "print(counting_numbers)\n"
   ]
  },
  {
   "cell_type": "markdown",
   "id": "47d4458d-5e94-4042-ab9b-6becf85484bd",
   "metadata": {},
   "source": [
    "**Note**, if the count does not increase then the while loop will continue \"infinitely\" (until the program shuts down ... which will take a while). Double check that your condition will be met eventually before running the program to avoid premature hair loss. \n",
    "\n",
    "The next iterative methods, the for loop, iterates through a sequence assigning a variable to each item in the sequence once and uses the variable in the loop block. "
   ]
  },
  {
   "cell_type": "code",
   "execution_count": 6,
   "id": "1033224d-e6e6-42ce-8027-a443eaa93e3d",
   "metadata": {},
   "outputs": [
    {
     "name": "stdout",
     "output_type": "stream",
     "text": [
      "even =  [2, 4, 6, 8, 10] odd =  [1, 3, 5, 7, 9]\n"
     ]
    }
   ],
   "source": [
    "# sort list of counting numbers 1-10 into a new list, odd and even\n",
    "\n",
    "counting_numbers = [1,2,3,4,5,6,7,8,9,10]\n",
    "even = []\n",
    "odd = []\n",
    "\n",
    "for x in counting_numbers:\n",
    "    if x%2 == 0:\n",
    "        even += [x]\n",
    "    else:\n",
    "        odd += [x]\n",
    "        \n",
    "print('even = ', even, 'odd = ', odd)"
   ]
  },
  {
   "cell_type": "markdown",
   "id": "6a1aba30-5063-45f4-890f-af31315b1086",
   "metadata": {},
   "source": [
    "Both while loops and for loops can be nested. Nested for loops can be extremely useful for many caluclations in computational physics, including creating matrices and integration. For example, if we want to make an NxN matrix with the pattern [[2,-1,0,0],[-1,2,-1,0],[0,-1,2,-1,],[0,0,-1,2]] for any given N."
   ]
  },
  {
   "cell_type": "code",
   "execution_count": 149,
   "id": "048ecc9e-d19c-4aff-bfb1-96aa6f5a5c43",
   "metadata": {},
   "outputs": [
    {
     "name": "stdout",
     "output_type": "stream",
     "text": [
      "[[2, -1, 0, 0, 0], [-1, 2, -1, 0, 0], [0, -1, 2, -1, 0], [0, 0, -1, 2, -1], [0, 0, 0, -1, 2]]\n"
     ]
    }
   ],
   "source": [
    "N = 5   # m = n for square matrix\n",
    "Matrix = []   # initialize matrix\n",
    "\n",
    "# create a zero matrix\n",
    "\n",
    "for r in range(N):\n",
    "    row = []\n",
    "    for c in range(N):\n",
    "        row += [0]\n",
    "    Matrix += [row]\n",
    "\n",
    "# fill matrix with requested pattern\n",
    "\n",
    "for i in range(N):\n",
    "    for j in range(N):\n",
    "        if j == i:\n",
    "            Matrix[i][j] = 2\n",
    "        elif j == (i - 1):\n",
    "            Matrix[i][j] = -1\n",
    "        elif j == (i + 1):\n",
    "            Matrix[i][j] = -1\n",
    "        else:\n",
    "            Matrix[i][j] = 0\n",
    "        \n",
    "print(Matrix)"
   ]
  },
  {
   "cell_type": "markdown",
   "id": "9157badf-dd84-471e-aedb-bf6fea61a353",
   "metadata": {},
   "source": [
    "Notice that in the second for loop, we looped through the indices rather than the list values. This is an important detail too distinguish as it is used a lot when we want to focus on steps sizes rather than values.\n",
    "\n",
    "**Note:** that indices can only be integers. "
   ]
  },
  {
   "cell_type": "code",
   "execution_count": 150,
   "id": "4177949e-051d-4054-8c9b-d85d41d32739",
   "metadata": {},
   "outputs": [
    {
     "name": "stdout",
     "output_type": "stream",
     "text": [
      "equal bin =  -385\n",
      "adjusted bin =  335.0\n",
      "correct answer =  333.33\n"
     ]
    }
   ],
   "source": [
    "x_array = range(11)\n",
    "\n",
    "# parabolic function output\n",
    "\n",
    "y_array = []\n",
    "for x in x_array:\n",
    "    y_array += [-x**2]\n",
    "    \n",
    "# equal bin reinman sum\n",
    "\n",
    "Integral = 0\n",
    "\n",
    "for y in y_array:\n",
    "    dx = 1\n",
    "    Integral += y*dx\n",
    "    \n",
    "print('equal bin = ',Integral)\n",
    "    \n",
    "# adjusted bins at center point\n",
    "\n",
    "Integral = 0\n",
    "\n",
    "for i in range(1,len(x_array)):\n",
    "    y_center = (y_array[i-1] + y_array[i])/2\n",
    "    dx = -(x_array[i] - x_array[i-1])\n",
    "    Integral += y_center*dx   # y center point * dx\n",
    "    \n",
    "print('adjusted bin = ',Integral)\n",
    "print('correct answer = ',333.33)"
   ]
  },
  {
   "cell_type": "markdown",
   "id": "de354d23-02c5-4b53-b9f4-be79eb2ef3f2",
   "metadata": {},
   "source": [
    "Notice in the adjusted bin integration for loop we use indices we can loop through mutiple arrays of the same length and find the center point between values. \n",
    "\n",
    "**Note:** while loops are best to use if you do not know how many times the loop are required otherwise for loops are best. "
   ]
  },
  {
   "cell_type": "markdown",
   "id": "593fab01",
   "metadata": {},
   "source": [
    "### Functions"
   ]
  },
  {
   "cell_type": "markdown",
   "id": "3e2a2ad5-7d15-4653-a5f9-74d8cb4b9bee",
   "metadata": {},
   "source": [
    "Another method that can be used to control the flow of a program is through the use of **functions**. Functions are a bit of code that is given its own name so that we may call it and use it repeatedly in various parts of the program. In our previous example instead of making an array called y, we can have created a function. This will allow us to intergate multiple funcitons with ease or change the input range. "
   ]
  },
  {
   "cell_type": "code",
   "execution_count": 151,
   "id": "1159af97-198a-4b08-b81c-d5c111019246",
   "metadata": {},
   "outputs": [
    {
     "name": "stdout",
     "output_type": "stream",
     "text": [
      "Integral parabola =  335.0 , with delta x = 1\n",
      "Integral parabola =  333.6875 , with delta x = 0.5\n",
      "Integral 3rd deg polynomial =  2525.0 , with delta x = 1\n"
     ]
    }
   ],
   "source": [
    "# parabolic function\n",
    "\n",
    "x = range(11)\n",
    "x1 = [0.5,1.0,1.5,2.0,2.5,3.0,3.5,4.0,4.5,5.0,\n",
    "      5.5,6.0,6.5,7.0,7.5,8.0,8.5,9.0,9.5,10.0]\n",
    "\n",
    "def parabola(x): # input given x values as array\n",
    "    y = []\n",
    "    for i in range(len(x)):\n",
    "        y += [-x[i]**2]\n",
    "    return y # output y value array\n",
    "\n",
    "def polynomial_3rd(x_array): # input given x values as array\n",
    "    y = []\n",
    "    for i in range(len(x)):\n",
    "        y += [-x[i]**3]\n",
    "    return y # output y value array\n",
    "\n",
    "def Integral(x_array,y_array): # input x values and y values as f(x)\n",
    "    Integral = 0\n",
    "    for i in range(1,len(x_array)):\n",
    "        y_center = (y_array[i-1] + y_array[i])/2\n",
    "        dx = -(x_array[i] - x_array[i-1])\n",
    "        Integral += y_center*dx   # y center point * dx\n",
    "    return Integral\n",
    "\n",
    "print('Integral parabola = ', Integral(x, parabola(x)), ', with delta x = 1')\n",
    "print('Integral parabola = ', Integral(x1, parabola(x1)), ', with delta x = 0.5')\n",
    "print('Integral 3rd deg polynomial = ',Integral(x,polynomial_3rd(x)), ', with delta x = 1')\n"
   ]
  },
  {
   "cell_type": "markdown",
   "id": "edb58b22-7fff-4e54-a10b-146460db3fa1",
   "metadata": {},
   "source": [
    "Notice that we were able to easily change the inputs of the functions to allow us to compute the integral of two different functions without writing it twice. Consider another example, factorials, where the input greatly affect the output. Factorials are an example of a function that is used in many other calculations such as taylor polynomials that would be quite troublesome to program everytime we wish to use it. "
   ]
  },
  {
   "cell_type": "code",
   "execution_count": 152,
   "id": "e31533b5-0873-4db4-aeba-5a373ebab29b",
   "metadata": {},
   "outputs": [
    {
     "name": "stdout",
     "output_type": "stream",
     "text": [
      "factorial( 5 ) =  120\n"
     ]
    }
   ],
   "source": [
    "# factorial function\n",
    "\n",
    "n = 5\n",
    "\n",
    "def factorial(n):\n",
    "    f = 1\n",
    "    for i in range(2,N+1):\n",
    "        f *= i \n",
    "    return f\n",
    "\n",
    "print('factorial(',n,') = ',factorial(n))\n",
    "    "
   ]
  }
 ],
 "metadata": {
  "kernelspec": {
   "display_name": "Python 3",
   "language": "python",
   "name": "python3"
  },
  "language_info": {
   "codemirror_mode": {
    "name": "ipython",
    "version": 3
   },
   "file_extension": ".py",
   "mimetype": "text/x-python",
   "name": "python",
   "nbconvert_exporter": "python",
   "pygments_lexer": "ipython3",
   "version": "3.8.8"
  }
 },
 "nbformat": 4,
 "nbformat_minor": 5
}
