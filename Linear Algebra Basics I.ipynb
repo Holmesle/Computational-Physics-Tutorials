{
 "cells": [
  {
   "cell_type": "markdown",
   "id": "13c6605e-959b-41a3-9382-50e34939e4b6",
   "metadata": {},
   "source": [
    "# Linear Algebra Basics I\n",
    "\n",
    "(1) Numpy\n",
    "\n",
    "(2) Vector Operations\n",
    "\n",
    "(3) Linear Transformations\n",
    "\n",
    "(4) Solving Systems of Equations\n",
    "\n",
    "### NumPy\n",
    "\n",
    "Numpy is a package or library for the python language that provides multi-dimensional arrays and matrix objects and has a large collection of high-level mathematical functions. \n",
    "\n",
    "The primary object of NumPy is the **ndarray** or n-dimensional array of homogenous data types. NumPy stores these arrays at one continuous place in memory which allows for fast manipulation and access (much faster than lists).\n",
    "\n",
    "NumPy can be installed under the scipy matplotlib package using pip-install. For this tutorial you will also need Matplotlib.pylab installed. (I will make a package installing tutorial at another time, anaconda comes with NumPy and matplotlib pre-installed). \n",
    "\n",
    "To use the NumPy package or any other package we must import it at the begining of each program. "
   ]
  },
  {
   "cell_type": "code",
   "execution_count": 176,
   "id": "d2b9e6eb-a59d-4298-a98a-1d3a69a6ce85",
   "metadata": {},
   "outputs": [],
   "source": [
    "import numpy as np\n",
    "import matplotlib.pylab as plt\n",
    "import timeit as tm"
   ]
  },
  {
   "cell_type": "markdown",
   "id": "310d6e85-4766-40a1-b71b-aebc14ef6633",
   "metadata": {},
   "source": [
    "#### Creating ndarrays\n",
    "\n",
    "To create an ndarray we can use the **array()** function, which takes a list as an input. "
   ]
  },
  {
   "cell_type": "code",
   "execution_count": 120,
   "id": "fa3e804c-dec6-426a-9294-36d0d7a0a8f8",
   "metadata": {},
   "outputs": [
    {
     "name": "stdout",
     "output_type": "stream",
     "text": [
      "array1 = \n",
      "[1 2 3 4 5]\n",
      "array2 = \n",
      "[[1 2 3]\n",
      " [4 5 6]\n",
      " [7 8 9]]\n",
      "array3 = \n",
      "[[[1 2]\n",
      "  [1 2]]\n",
      "\n",
      " [[3 4]\n",
      "  [3 4]]\n",
      "\n",
      " [[5 6]\n",
      "  [5 6]]]\n"
     ]
    }
   ],
   "source": [
    "array1 = np.array([1,2,3,4,5]) # 1-D array\n",
    "array2 = np.array([[1,2,3],[4,5,6],[7,8,9]]) #2-D array\n",
    "array3 = np.array([[[1,2],[1,2]],[[3,4],[3,4]],[[5,6],[5,6]]])\n",
    "\n",
    "print('array1 = ')\n",
    "print(array1)\n",
    "print('array2 = ')\n",
    "print(array2)\n",
    "print('array3 = ')\n",
    "print(array3)"
   ]
  },
  {
   "cell_type": "markdown",
   "id": "1bdafd9b-f086-40ea-b34c-18268dd4800b",
   "metadata": {},
   "source": [
    "You can check the dimensions of an array using **.ndim**, check the shape using **.shape**, or change the shape with **.reshape(size)**."
   ]
  },
  {
   "cell_type": "code",
   "execution_count": 121,
   "id": "88aa23f9-60a2-4bc2-8493-3aedd264c034",
   "metadata": {},
   "outputs": [
    {
     "name": "stdout",
     "output_type": "stream",
     "text": [
      "the dimension of array3 is 3\n",
      "the shape of array3 is (3, 2, 2)\n",
      "new_array2 =  [[1 2 3 4 5 6 7 8 9]]\n"
     ]
    }
   ],
   "source": [
    "print('the dimension of array3 is', array3.ndim)\n",
    "print('the shape of array3 is', array3.shape)\n",
    "\n",
    "new_array2 = array2.reshape([1,9])\n",
    "\n",
    "print('new_array2 = ' , new_array2)"
   ]
  },
  {
   "cell_type": "markdown",
   "id": "9b308997-bdbc-4734-b525-f37945fe46c5",
   "metadata": {},
   "source": [
    "We can also create an array of zeros (floats) of a given size N with **np.zeros(N)** and an array of ones (floats) with a given size N **np.ones(N)**. "
   ]
  },
  {
   "cell_type": "code",
   "execution_count": 122,
   "id": "753fb3fc-6c03-428e-839a-a2adb9f42b7d",
   "metadata": {},
   "outputs": [
    {
     "name": "stdout",
     "output_type": "stream",
     "text": [
      "z =  [[0. 0. 0.]\n",
      " [0. 0. 0.]\n",
      " [0. 0. 0.]]\n",
      "u =  [[1. 1. 1.]\n",
      " [1. 1. 1.]\n",
      " [1. 1. 1.]]\n"
     ]
    }
   ],
   "source": [
    "N = [3,3] # shape\n",
    "\n",
    "z = np.zeros(N)\n",
    "u = np.ones(N)\n",
    "\n",
    "print('z = ',z)\n",
    "print('u = ', u)"
   ]
  },
  {
   "cell_type": "markdown",
   "id": "bb7a2b94-e5f8-408b-b992-71ffe9bb1b9e",
   "metadata": {},
   "source": [
    "We can think of the zeros array as a box with subdivisions that are empty, but the number subdivisions is a place holder for how many items we wish to put in it. The ones can be usful if we want to start with an array of all the same value as we can easily adjust the starting value with multiplication."
   ]
  },
  {
   "cell_type": "code",
   "execution_count": 123,
   "id": "0b6ce09d-cd36-4f97-886d-c2a8f57a2e46",
   "metadata": {},
   "outputs": [
    {
     "name": "stdout",
     "output_type": "stream",
     "text": [
      "[[5. 5. 5.]\n",
      " [5. 5. 5.]\n",
      " [5. 5. 5.]]\n"
     ]
    }
   ],
   "source": [
    " print(u*5)"
   ]
  },
  {
   "cell_type": "markdown",
   "id": "d7c4d1d1-1fd7-4cfc-8382-5ab687764823",
   "metadata": {},
   "source": [
    "You declare what type of data you want the array to take using **dtype**."
   ]
  },
  {
   "cell_type": "code",
   "execution_count": 124,
   "id": "718f1641-2de6-4506-955c-dee8e9d94206",
   "metadata": {},
   "outputs": [
    {
     "name": "stdout",
     "output_type": "stream",
     "text": [
      "float32\n",
      "int32\n"
     ]
    }
   ],
   "source": [
    "# declare what data type the array will be\n",
    "\n",
    "c = np.array([1,2,3,4], dtype = 'f')\n",
    "print(c.dtype)\n",
    "\n",
    "\n",
    "# chagne the data type of the array\n",
    "\n",
    "c.dtype = 'i'\n",
    "print(c.dtype)"
   ]
  },
  {
   "cell_type": "markdown",
   "id": "ed36e83f-ccfe-4b34-9669-1fb06c3c499b",
   "metadata": {},
   "source": [
    "We can create a range of values that increase by equivalent step sizes using **np.arange()** and **np.linspace()**. Both functions require a stop and start point but np.arrange() goes by stepsize and np.linspace goes by number of items in the array. "
   ]
  },
  {
   "cell_type": "code",
   "execution_count": 192,
   "id": "d1401412-a164-4095-a7ab-4c9aa00a5014",
   "metadata": {},
   "outputs": [
    {
     "name": "stdout",
     "output_type": "stream",
     "text": [
      "x1 =  [ 0  2  4  6  8 10]\n",
      "x2 =  [ 0.  2.  4.  6.  8. 10.]\n"
     ]
    }
   ],
   "source": [
    "x1 = np.arange(0,12,2)\n",
    "print('x1 = ', x1)\n",
    "\n",
    "x2 = np.linspace(0,10,6)\n",
    "print('x2 = ', x2)"
   ]
  },
  {
   "cell_type": "markdown",
   "id": "f89e6451-674e-4e4e-a574-9d75046d7437",
   "metadata": {},
   "source": [
    "Notice that if the stepsize for the np.arange() input is an integer than the array will be integers, where as the linspace will be floats regardless. \n",
    "Secondly, notice that if we want the array to include 10 then the endpoint entry for np.arange must be ( end + stepsize ) and the number of items for np.linspace() must be( items + 1 )."
   ]
  },
  {
   "cell_type": "markdown",
   "id": "316374fb-b7d5-441d-a770-b54dc605d3d3",
   "metadata": {},
   "source": [
    "#### Iterating and Indexing ndarrays\n",
    "\n",
    "Indexing ndarrays is similar to indexing lists, only two dimensional array indices are written as follows."
   ]
  },
  {
   "cell_type": "code",
   "execution_count": 125,
   "id": "f1b1f381-0707-4df7-a735-771aeb68b9ce",
   "metadata": {},
   "outputs": [
    {
     "name": "stdout",
     "output_type": "stream",
     "text": [
      "[[1. 0. 0.]\n",
      " [0. 0. 0.]\n",
      " [0. 0. 0.]]\n"
     ]
    }
   ],
   "source": [
    "'''\n",
    "If we do not copy the array it will change z permenately\n",
    "due to right-to-left programing.\n",
    "\n",
    "'''\n",
    "a = z.copy() \n",
    "a[0,0] = 1\n",
    "print(a)"
   ]
  },
  {
   "cell_type": "markdown",
   "id": "34291b5e-bf31-4a10-9023-a95eaa912082",
   "metadata": {},
   "source": [
    "Again, the aray can be indexed in reverse with negative numbers."
   ]
  },
  {
   "cell_type": "code",
   "execution_count": 126,
   "id": "7fbd624b-ae51-41fb-80aa-876ff6ad818f",
   "metadata": {},
   "outputs": [
    {
     "name": "stdout",
     "output_type": "stream",
     "text": [
      "[[1. 0. 0.]\n",
      " [0. 0. 0.]\n",
      " [0. 0. 1.]]\n"
     ]
    }
   ],
   "source": [
    "a[2,-1] = 1\n",
    "print(a)"
   ]
  },
  {
   "cell_type": "markdown",
   "id": "5faa4e0d-1722-486e-a6b6-f2a510e25316",
   "metadata": {},
   "source": [
    "You can also slice ndarrays."
   ]
  },
  {
   "cell_type": "code",
   "execution_count": 127,
   "id": "79051ce6-71b5-4fe8-8621-76957c6dfc01",
   "metadata": {},
   "outputs": [
    {
     "name": "stdout",
     "output_type": "stream",
     "text": [
      "[7 8 9]\n",
      "[3 8]\n"
     ]
    }
   ],
   "source": [
    "array4 = np.array([[1, 2, 3, 4, 5], [6, 7, 8, 9, 10]])\n",
    "\n",
    "print(array4[1, 1:4])\n",
    "\n",
    "array4 = np.array([[1, 2, 3, 4, 5], [6, 7, 8, 9, 10]])\n",
    "\n",
    "print(array4[0:2, 2])"
   ]
  },
  {
   "cell_type": "markdown",
   "id": "e6ccbc79-7a99-4686-bb3e-8d911f93e148",
   "metadata": {},
   "source": [
    "The step size of iteration can be changed, as follows. "
   ]
  },
  {
   "cell_type": "code",
   "execution_count": 128,
   "id": "70fe42f2-77fa-444d-88ad-13d45a057219",
   "metadata": {},
   "outputs": [
    {
     "name": "stdout",
     "output_type": "stream",
     "text": [
      "1\n",
      "3\n",
      "5\n",
      "6\n",
      "8\n",
      "10\n"
     ]
    }
   ],
   "source": [
    "for x in np.nditer(array4[:,::2]):\n",
    "    print(x)"
   ]
  },
  {
   "cell_type": "markdown",
   "id": "cd4425f2-7f42-4b96-aa88-4e98585c48cf",
   "metadata": {},
   "source": [
    "We can determine the index of a specific value in the array using **np.where()**. It can also be used to find values that apply to certain conditions. "
   ]
  },
  {
   "cell_type": "code",
   "execution_count": 129,
   "id": "9b834c77-078f-4d87-b97e-2132b98b641d",
   "metadata": {},
   "outputs": [
    {
     "name": "stdout",
     "output_type": "stream",
     "text": [
      "The array is equal to 4 at indices, \n",
      "[3 5 6]\n",
      " \n",
      "The array is even at indices, \n",
      "[1 3 5 6]\n"
     ]
    }
   ],
   "source": [
    "array5 = np.array([1,2,3,4,5,4,4])\n",
    "\n",
    "x = np.where(array5 == 4)\n",
    "\n",
    "even = np.where(array5%2 == 0)\n",
    "\n",
    "print('The array is equal to 4 at indices, ')\n",
    "print(x[0])\n",
    "print(' ')\n",
    "print('The array is even at indices, ')\n",
    "print(even[0])"
   ]
  },
  {
   "cell_type": "markdown",
   "id": "7d54fa59-de07-4314-8577-91b773af25fd",
   "metadata": {},
   "source": [
    "#### Concatenating  and Splitting ndarrays\n",
    "\n",
    "You can join two ndarrays using **np.concatenate()**, **np.stack()** along columns, and **np.hstack()** along rows."
   ]
  },
  {
   "cell_type": "code",
   "execution_count": 130,
   "id": "9f5fe136-dc93-426a-98bf-8bb142f6279d",
   "metadata": {},
   "outputs": [
    {
     "name": "stdout",
     "output_type": "stream",
     "text": [
      "concatenate two 1D arrays: \n",
      "[1 2 3 4 5 6]\n",
      " \n",
      "concatenate two 2D arrays along axis 1: \n",
      "[[1 2 3 4]\n",
      " [5 6 7 8]]\n",
      " \n",
      "stack two 2D arrays along axis 2: \n",
      "[[[1 2]\n",
      "  [3 4]]\n",
      "\n",
      " [[5 6]\n",
      "  [7 8]]]\n",
      " \n",
      "stack two 2D array along rows: \n",
      "[[1 2 3 4]\n",
      " [5 6 7 8]]\n",
      " \n",
      "stack two 2D array along columns: \n",
      "[[1 2]\n",
      " [5 6]\n",
      " [3 4]\n",
      " [7 8]]\n"
     ]
    }
   ],
   "source": [
    "# join two 1D arrays\n",
    "\n",
    "a1 = np.array([1 ,2, 3])\n",
    "a2 = np.array([4 ,5, 6])\n",
    "\n",
    "array6 = np.concatenate((a1,a2))\n",
    "\n",
    "# join two 2D arrays along 1st axis\n",
    "\n",
    "b1 = np.array([[1,2],[5,6]])\n",
    "b2 = np.array([[3,4],[7,8]])\n",
    "\n",
    "array7 = np.concatenate((b1,b2), axis = 1)\n",
    "\n",
    "# join two 2D arrays along 2nd axis\n",
    "\n",
    "array8 = np.stack((b1,b2), axis = 1)\n",
    "\n",
    "# stack along the rows\n",
    "\n",
    "array9 = np.hstack((b1,b2))\n",
    "\n",
    "# stack along the columns\n",
    "\n",
    "array10 = np.vstack((b1,b2))\n",
    "                  \n",
    "print('concatenate two 1D arrays: ')\n",
    "print(array6)\n",
    "print(' ')\n",
    "print('concatenate two 2D arrays along axis 1: ')\n",
    "print(array7)\n",
    "print(' ')\n",
    "print('stack two 2D arrays along axis 2: ')\n",
    "print(array8)\n",
    "print(' ')\n",
    "print('stack two 2D array along rows: ')\n",
    "print(array9)\n",
    "print(' ')\n",
    "print('stack two 2D array along columns: ')\n",
    "print(array10)\n"
   ]
  },
  {
   "cell_type": "markdown",
   "id": "a4174798-7663-4626-a0b7-5e75718e5033",
   "metadata": {},
   "source": [
    "We can also split apart an array into seperate arrays using **np.array_split()**. There also exists **np.split()** but it will not adjust the elements when there are less in the source array. "
   ]
  },
  {
   "cell_type": "code",
   "execution_count": 131,
   "id": "5ea7d6a5-4099-4f80-9791-e5c087ad6245",
   "metadata": {},
   "outputs": [
    {
     "name": "stdout",
     "output_type": "stream",
     "text": [
      "split array6 into 3 equal parts:\n",
      "[array([1, 2]), array([3, 4]), array([5, 6])]\n",
      " \n",
      "split array6 into 4 unequal parts:\n",
      "[array([1, 2]), array([3, 4]), array([5]), array([6])]\n",
      " \n",
      "split array6 into 2 parts along rows:\n",
      "[array([[1, 2],\n",
      "       [5, 6]]), array([[3],\n",
      "       [7]]), array([[4],\n",
      "       [8]])]\n",
      " \n"
     ]
    }
   ],
   "source": [
    "# split the array6 = [1,2,3,4,5,6] into 3 equal parts\n",
    "array11 = np.array_split(array6, 3)\n",
    "\n",
    "# split into array6 into 4 unequal parts\n",
    "array12 = np.array_split(array6, 4)\n",
    "\n",
    "# # split along rows\n",
    "# array13 = np.array_split(array6, 2, axis = 1)\n",
    "\n",
    "print('split array6 into 3 equal parts:')\n",
    "print(array11)\n",
    "print(' ')\n",
    "print('split array6 into 4 unequal parts:')\n",
    "print(array12)\n",
    "print(' ')\n",
    "print('split array6 into 2 parts along rows:')\n",
    "print(array13)\n",
    "print(' ')"
   ]
  },
  {
   "cell_type": "markdown",
   "id": "b2d2e46e-5b8b-4e86-981c-c9bdf17ea679",
   "metadata": {},
   "source": [
    "#### Sorting and Filtering ndarrays\n",
    "\n"
   ]
  },
  {
   "cell_type": "markdown",
   "id": "abd168e2-b285-4a48-a75c-ccfe226ca4bd",
   "metadata": {},
   "source": [
    "If we want to put an array into an ordered sequence we can usue the **np.sort()** function. This also applies to multi-dimensional arrays. "
   ]
  },
  {
   "cell_type": "code",
   "execution_count": 133,
   "id": "2a46b954-837b-443e-a8b2-45a9135d3194",
   "metadata": {},
   "outputs": [
    {
     "name": "stdout",
     "output_type": "stream",
     "text": [
      "array14 = \n",
      "[[ 1  1  2  3  4  6  7  8  9 10]]\n",
      "array15 = \n",
      "[[ 1  3  4  8 10]\n",
      " [ 1  2  6  7  9]]\n"
     ]
    }
   ],
   "source": [
    "# 1D array\n",
    "\n",
    "array14 = np.array([[1, 10, 8, 3, 4, 1, 7, 6, 9, 2]])\n",
    "print('array14 = ')\n",
    "print(np.sort(array14))\n",
    "\n",
    "# 2D array\n",
    "\n",
    "print('array15 = ')\n",
    "array15= np.array([[1, 10, 8, 3, 4], [1, 7, 6, 9, 2]])\n",
    "print(np.sort(array15))\n",
    "\n"
   ]
  },
  {
   "cell_type": "markdown",
   "id": "ad30e7dc-3fc3-4be2-88e4-5316a118fc32",
   "metadata": {},
   "source": [
    "We can use boolean arrays to remove or change elements in an ndarray, we call this a **filter**."
   ]
  },
  {
   "cell_type": "code",
   "execution_count": 143,
   "id": "1fbd9fb9-cd2f-46b5-a38c-61aa11cdaa4b",
   "metadata": {},
   "outputs": [
    {
     "name": "stdout",
     "output_type": "stream",
     "text": [
      "evens15 =  [10  8  4  6  2]\n"
     ]
    }
   ],
   "source": [
    "# filter out even items\n",
    "array15= np.array([[1, 10, 8, 3, 4], [1, 7, 6, 9, 2]])\n",
    "dos = np.ones(np.shape(array15))*2\n",
    "filter15 = array15 % dos == 0\n",
    "\n",
    "evens15 = array15[filter15]\n",
    "print('evens15 = ', evens15)"
   ]
  },
  {
   "cell_type": "markdown",
   "id": "90b53cee-7167-4eae-9f71-b6162bab0067",
   "metadata": {},
   "source": [
    "#### For Loops vs. Binary and Filters\n",
    "\n",
    "For loops can take a long time to process so whenever possible it is better to use binary processes rather than for loops especially with large data sets. Consider if we want to create a heavyside or stepwise function, for example a triangle, we must filter out the x values where the slope is positive and the x values where the slope is negative. We can do this with both for loops and conditionals or binary and filters. The second is nealry twice as fast for this fairly simple problem. "
   ]
  },
  {
   "cell_type": "code",
   "execution_count": 198,
   "id": "052bfd68-e96f-4fe6-8445-b4a329b58008",
   "metadata": {},
   "outputs": [
    {
     "name": "stdout",
     "output_type": "stream",
     "text": [
      "Computing a triangle function with for loops takes 8.023e-04 s and with binary takes 5.173e-04 s, binary is 1.551e+00 times faster.\n"
     ]
    },
    {
     "data": {
      "image/png": "[encoded data removed]",
      "text/plain": [
       "<Figure size 432x288 with 1 Axes>"
      ]
     },
     "metadata": {
      "needs_background": "light"
     },
     "output_type": "display_data"
    }
   ],
   "source": [
    "# Reset timers\n",
    "start1,stop1,start2,stop2 = 0,0,0,0\n",
    "\n",
    "# Varaibles\n",
    "x = np.linspace(-10,10,100) # x[i] = 0 will be between i = 49 and 50\n",
    "A = 1   # amplitude\n",
    "\n",
    "# Initiate arrays\n",
    "Triangle1 = np.zeros(len(x)) # needs to be the same length as x\n",
    "Triangle2 = np.zeros(len(x)) # needs to be the same length as x\n",
    "\n",
    "# for loop\n",
    "start1 = tm.default_timer()\n",
    "\n",
    "for i in range(len(x)):\n",
    "    if x[i] < 0:\n",
    "        Triangle1[i] = A*x[i]\n",
    "    else:\n",
    "        Triangle1[i] = -A*x[i]\n",
    "        \n",
    "stop1 = tm.default_timer()\n",
    "        \n",
    "# Binary\n",
    "\n",
    "filter  = x < 0\n",
    "\n",
    "start2 = tm.default_timer()\n",
    "\n",
    "Triangle2[:50] = A*x[filter]\n",
    "Triangle2[50:] = -A*x[filter]-10\n",
    "\n",
    "stop2 = tm.default_timer()\n",
    "\n",
    "# Plot \n",
    "plt.plot(x,Triangle1,'-',color = 'red', label = 'Triangle1')\n",
    "plt.plot(x,Triangle2,'--',color = 'blue', label = 'Triangle2')\n",
    "plt.legend()\n",
    "\n",
    "# compare run times\n",
    "total_time1 = stop1 - start1\n",
    "total_time2 = stop2 - start2\n",
    "speed = total_time1/total_time2\n",
    "print('Computing a triangle function with for loops takes %1.3e s and with binary takes %1.3e s, binary is %1.3e times faster.' %(total_time1,total_time2,speed))"
   ]
  },
  {
   "cell_type": "markdown",
   "id": "2fb0eeee-b116-45c0-9ab6-024193b91d78",
   "metadata": {},
   "source": [
    "### Vector Operations"
   ]
  },
  {
   "cell_type": "markdown",
   "id": "7d309aec-30e5-4123-b2f4-992f7dd5d289",
   "metadata": {},
   "source": [
    "### Linear Tranformations"
   ]
  },
  {
   "cell_type": "markdown",
   "id": "850c1df3-cb29-4319-bc01-3026e9d89424",
   "metadata": {},
   "source": [
    "### Solving Systems of Equations"
   ]
  },
  {
   "cell_type": "code",
   "execution_count": null,
   "id": "ac4bd9fb-0798-4262-8113-5547de8b8583",
   "metadata": {},
   "outputs": [],
   "source": []
  }
 ],
 "metadata": {
  "kernelspec": {
   "display_name": "Python 3",
   "language": "python",
   "name": "python3"
  },
  "language_info": {
   "codemirror_mode": {
    "name": "ipython",
    "version": 3
   },
   "file_extension": ".py",
   "mimetype": "text/x-python",
   "name": "python",
   "nbconvert_exporter": "python",
   "pygments_lexer": "ipython3",
   "version": "3.8.8"
  }
 },
 "nbformat": 4,
 "nbformat_minor": 5
}
